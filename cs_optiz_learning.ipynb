{
 "cells": [
  {
   "cell_type": "markdown",
   "id": "f56ce4ea",
   "metadata": {},
   "source": [
    "# Technical Analysis: Thorough Comparison between Conjugate Gradient and Polak Ribiere Methods \n",
    "\n",
    "#### Authors:\n",
    "* Ridha Alkhabaz (ridhama2)\n",
    "* Ali Albazroun (aia)\n",
    "* Priyam  Mazumdar (priyamm2)\n",
    "\n",
    "#### Outline:\n",
    "\n",
    "**1- Introduction**\n",
    "\n",
    "**2- Experiments**\n",
    "\n",
    "**3- Results**\n",
    "\n",
    "**4- Conclusions**\n",
    "\n",
    "#### Introduction:"
   ]
  },
  {
   "cell_type": "markdown",
   "id": "ac208c29",
   "metadata": {},
   "source": [
    "In this assignment, we are trying to determine whether **Conjugate Gradient** is better than **Polak Ribiere** methods. Our chosen objective are all well-behaved, continous, and mostly differentiable. Moreover, they all share the same minimum, which is $x = [0]^d$, where d is the dimension. Here is a list of our chosen objective functions:\n",
    "\n",
    "* [Rastrigin Functions](https://en.wikipedia.org/wiki/Rastrigin_function): It is non-convex function with the following form:\n",
    "$$ f(x) = An +  \\sum_{i=1}^{n} (x_{i}^{2} - A cos(2 \\pi x_i)), \\quad where \\quad A \\in \\mathbb{R}, n \\in \\mathbb{N}, and \\quad x \\in \\mathbb{R}^{n}$$\n",
    "* [Bent Cigar Function](https://al-roomi.org/benchmarks/unconstrained/n-dimensions/164-bent-cigar-function): It is a convex function with the following function:\n",
    "$$ f(x) = x_{1}^{2} + 10^{6}\\sum_{i=1}^{n} x_{i}^{2}, \\quad where \\quad n \\in \\mathbb{N}, and \\quad x \\in \\mathbb{R}^{n}$$\n",
    "* [Rotated Hyper-Ellipsoid Function](https://www.sfu.ca/~ssurjano/rothyp.html): It is a convex function with the following form:\n",
    "$$ f(x) = \\sum_{i=1}^{n} \\sum_{j=1}^{i} x_{j}^{2}, \\quad where \\quad n \\in \\mathbb{N}, and \\quad x \\in \\mathbb{R}^{n}$$\n",
    "\n",
    "\n",
    "Since most of the team members work in either non-continoues space or discrete, we opted to use famous objective functions to evaluate optimization techniques. "
   ]
  },
  {
   "cell_type": "markdown",
   "id": "1d7b556c",
   "metadata": {},
   "source": [
    "#### Experiments:"
   ]
  },
  {
   "cell_type": "code",
   "execution_count": 1,
   "id": "63c45232",
   "metadata": {},
   "outputs": [],
   "source": [
    "# imports:\n",
    "from scipy import optimize\n",
    "import numpy as np\n",
    "from tqdm.notebook import tqdm\n",
    "import matplotlib.pyplot as plt\n",
    "import seaborn as sns\n",
    "import pickle\n",
    "import pandas as pd\n",
    "\n",
    "import warnings\n",
    "warnings.filterwarnings(\"ignore\")\n",
    "\n",
    "import sys, os"
   ]
  },
  {
   "cell_type": "code",
   "execution_count": 2,
   "id": "cae3b8da-02cd-4537-a6f8-86c684e720b8",
   "metadata": {},
   "outputs": [],
   "source": [
    "# Disable\n",
    "def blockPrint():\n",
    "    sys.stdout = open(os.devnull, 'w')\n",
    "\n",
    "def Rastrigin(x):\n",
    "    z = 0 \n",
    "    for i in x:\n",
    "        z += i**2 - 0.5*np.cos(2*np.pi*i) + 0.5\n",
    "    return z\n",
    "\n",
    "def ellipse(x):\n",
    "    dim = len(x)\n",
    "    z = 0\n",
    "    for i in range(dim):\n",
    "        for j in range(i):\n",
    "            z += (x[j]**2)\n",
    "    return z\n",
    "            \n",
    "def cigar(x):\n",
    "    z = x[0]**2\n",
    "    for i in x[1:]:\n",
    "        z += (10**6) * i**2\n",
    "    return z\n",
    "\n",
    "def matyas(x):\n",
    "    return 0.26 * np.sum(x**2) - 0.48*np.prod(x) + 1\n",
    "\n",
    "def rosenbrock(x):\n",
    "    sum = 0\n",
    "    for i in range(len(x) // 2):\n",
    "        sum += 100*(x[2*i-1]**2 - x[2*i])**2 + (x[2*i-1] - 1)**2\n",
    "    return sum\n",
    "    \n",
    "\n",
    "def opts_test(function, samples=50, dim=100):\n",
    "    pcg_x_outs, best_pcgs, num_pcg_iterations = [], [], []\n",
    "    cg_x_outs, best_cgs, num_cg_iterations = [], [], []\n",
    "    \n",
    "    for i in tqdm(range(samples)):\n",
    "        blockPrint()\n",
    "        init = np.random.randn((dim))\n",
    "    \n",
    "        pcg = optimize.fmin_cg(function, x0=init, full_output=True, retall=True)\n",
    "        pcg_x_out, best_pcg, _, _, _, pcg_iterations = pcg\n",
    "        pcg_iterations = len(pcg_iterations) - 1\n",
    "\n",
    "        init = np.random.randn((dim))\n",
    "        cg = optimize.minimize(function, x0=init, method=\"CG\")\n",
    "        cg_x_out, best_cg, cg_iterations = cg[\"x\"], cg[\"fun\"], cg[\"nit\"]\n",
    "    \n",
    "        pcg_x_outs.append(pcg_x_out)\n",
    "        best_pcgs.append(best_pcg)\n",
    "        num_pcg_iterations.append(pcg_iterations)\n",
    "    \n",
    "        cg_x_outs.append(cg_x_out)\n",
    "        best_cgs.append(best_cg)\n",
    "        num_cg_iterations.append(cg_iterations)\n",
    "\n",
    "    return pcg_x_outs, best_pcgs, num_pcg_iterations, cg_x_outs, best_cgs, num_cg_iterations\n"
   ]
  },
  {
   "cell_type": "code",
   "execution_count": 11,
   "id": "db73de64-8a6a-45a5-9b5a-ec50605dd1a8",
   "metadata": {},
   "outputs": [
    {
     "data": {
      "application/vnd.jupyter.widget-view+json": {
       "model_id": "2c57330a1eb741eea32b6c6262d1a490",
       "version_major": 2,
       "version_minor": 0
      },
      "text/plain": [
       "  0%|          | 0/100 [00:00<?, ?it/s]"
      ]
     },
     "metadata": {},
     "output_type": "display_data"
    },
    {
     "data": {
      "application/vnd.jupyter.widget-view+json": {
       "model_id": "535509b8e022495593fc2b707b21e17b",
       "version_major": 2,
       "version_minor": 0
      },
      "text/plain": [
       "  0%|          | 0/100 [00:00<?, ?it/s]"
      ]
     },
     "metadata": {},
     "output_type": "display_data"
    },
    {
     "data": {
      "application/vnd.jupyter.widget-view+json": {
       "model_id": "50d02135366f481385e8f5de89d3a68d",
       "version_major": 2,
       "version_minor": 0
      },
      "text/plain": [
       "  0%|          | 0/100 [00:00<?, ?it/s]"
      ]
     },
     "metadata": {},
     "output_type": "display_data"
    },
    {
     "data": {
      "application/vnd.jupyter.widget-view+json": {
       "model_id": "4784ed1249534150a503866972ce48ad",
       "version_major": 2,
       "version_minor": 0
      },
      "text/plain": [
       "  0%|          | 0/100 [00:00<?, ?it/s]"
      ]
     },
     "metadata": {},
     "output_type": "display_data"
    },
    {
     "data": {
      "application/vnd.jupyter.widget-view+json": {
       "model_id": "08342eb2a04d4267a47c03a948a26f18",
       "version_major": 2,
       "version_minor": 0
      },
      "text/plain": [
       "  0%|          | 0/100 [00:00<?, ?it/s]"
      ]
     },
     "metadata": {},
     "output_type": "display_data"
    }
   ],
   "source": [
    "rpcg_x_outs, rbest_pcgs, rnum_pcg_iterations, rcg_x_outs, rbest_cgs, rnum_cg_iterations = opts_test(Rastrigin, samples=100)\n",
    "epcg_x_outs, ebest_pcgs, enum_pcg_iterations, ecg_x_outs, ebest_cgs, enum_cg_iterations = opts_test(ellipse, samples=100)\n",
    "cpcg_x_outs, cbest_pcgs, cnum_pcg_iterations, ccg_x_outs, cbest_cgs, cnum_cg_iterations = opts_test(cigar, samples=100)\n",
    "mpcg_x_outs, mbest_pcgs, mnum_pcg_iterations, mcg_x_outs, mbest_cgs, mnum_cg_iterations = opts_test(matyas, samples=100)\n",
    "ropcg_x_outs, robest_pcgs, ronum_pcg_iterations, rocg_x_outs, robest_cgs, ronum_cg_iterations = opts_test(rosenbrock, samples=100)\n",
    "\n",
    "results = {\"rastrigin\": [rpcg_x_outs, rbest_pcgs, rnum_pcg_iterations, rcg_x_outs, rbest_cgs, rnum_cg_iterations], \n",
    "           \"ellipse\": [epcg_x_outs, ebest_pcgs, enum_pcg_iterations, ecg_x_outs, ebest_cgs, enum_cg_iterations],\n",
    "           \"cigar\": [cpcg_x_outs, cbest_pcgs, cnum_pcg_iterations, ccg_x_outs, cbest_cgs, cnum_cg_iterations], \n",
    "           \"matyas\": [mpcg_x_outs, mbest_pcgs, mnum_pcg_iterations, mcg_x_outs, mbest_cgs, mnum_cg_iterations], \n",
    "           \"rosenbrock\": [ropcg_x_outs, robest_pcgs, ronum_pcg_iterations, rocg_x_outs, robest_cgs, ronum_cg_iterations]}"
   ]
  },
  {
   "cell_type": "code",
   "execution_count": 12,
   "id": "a94eb671",
   "metadata": {},
   "outputs": [],
   "source": [
    "with open('results_sam100_dim100.pickle', 'wb') as handle:\n",
    "    pickle.dump(results, handle, protocol=pickle.HIGHEST_PROTOCOL)"
   ]
  },
  {
   "cell_type": "code",
   "execution_count": 13,
   "id": "d981bdcc",
   "metadata": {},
   "outputs": [
    {
     "data": {
      "application/vnd.jupyter.widget-view+json": {
       "model_id": "29f83b1aea4740a9aa51b2e6ccf6b2d1",
       "version_major": 2,
       "version_minor": 0
      },
      "text/plain": [
       "  0%|          | 0/100 [00:00<?, ?it/s]"
      ]
     },
     "metadata": {},
     "output_type": "display_data"
    },
    {
     "data": {
      "application/vnd.jupyter.widget-view+json": {
       "model_id": "b312534bc973467c9d39a0ce3ab714a6",
       "version_major": 2,
       "version_minor": 0
      },
      "text/plain": [
       "  0%|          | 0/100 [00:00<?, ?it/s]"
      ]
     },
     "metadata": {},
     "output_type": "display_data"
    },
    {
     "data": {
      "application/vnd.jupyter.widget-view+json": {
       "model_id": "bc2bcd6b6dfd49009b9be8b9ea99951d",
       "version_major": 2,
       "version_minor": 0
      },
      "text/plain": [
       "  0%|          | 0/100 [00:00<?, ?it/s]"
      ]
     },
     "metadata": {},
     "output_type": "display_data"
    },
    {
     "data": {
      "application/vnd.jupyter.widget-view+json": {
       "model_id": "e8e766bb0601490fbaf61f98cf25ab65",
       "version_major": 2,
       "version_minor": 0
      },
      "text/plain": [
       "  0%|          | 0/100 [00:00<?, ?it/s]"
      ]
     },
     "metadata": {},
     "output_type": "display_data"
    }
   ],
   "source": [
    "rpcg_x_outs, rbest_pcgs, rnum_pcg_iterations, rcg_x_outs, rbest_cgs, rnum_cg_iterations = opts_test(Rastrigin, samples=100, dim=1000)\n",
    "# epcg_x_outs, ebest_pcgs, enum_pcg_iterations, ecg_x_outs, ebest_cgs, enum_cg_iterations = opts_test(ellipse, samples=50, dim=1000)\n",
    "cpcg_x_outs, cbest_pcgs, cnum_pcg_iterations, ccg_x_outs, cbest_cgs, cnum_cg_iterations = opts_test(cigar, samples=100, dim=1000)\n",
    "mpcg_x_outs, mbest_pcgs, mnum_pcg_iterations, mcg_x_outs, mbest_cgs, mnum_cg_iterations = opts_test(matyas, samples=100, dim=1000)\n",
    "ropcg_x_outs, robest_pcgs, ronum_pcg_iterations, rocg_x_outs, robest_cgs, ronum_cg_iterations = opts_test(rosenbrock, samples=100,  dim=1000)"
   ]
  },
  {
   "cell_type": "code",
   "execution_count": 9,
   "id": "7c5b9a92",
   "metadata": {},
   "outputs": [],
   "source": [
    "results = {\"rastrigin\": [rpcg_x_outs, rbest_pcgs, rnum_pcg_iterations, rcg_x_outs, rbest_cgs, rnum_cg_iterations], \n",
    "#            \"ellipse\": [epcg_x_outs, ebest_pcgs, enum_pcg_iterations, ecg_x_outs, ebest_cgs, enum_cg_iterations],\n",
    "           \"cigar\": [cpcg_x_outs, cbest_pcgs, cnum_pcg_iterations, ccg_x_outs, cbest_cgs, cnum_cg_iterations], \n",
    "           \"matyas\": [mpcg_x_outs, mbest_pcgs, mnum_pcg_iterations, mcg_x_outs, mbest_cgs, mnum_cg_iterations], \n",
    "           \"rosenbrock\": [ropcg_x_outs, robest_pcgs, ronum_pcg_iterations, rocg_x_outs, robest_cgs, ronum_cg_iterations]}"
   ]
  },
  {
   "cell_type": "code",
   "execution_count": 10,
   "id": "088c570a",
   "metadata": {},
   "outputs": [],
   "source": [
    "with open('results_sam100_dim1000_noellipse.pickle', 'wb') as handle:\n",
    "    pickle.dump(results, handle, protocol=pickle.HIGHEST_PROTOCOL)"
   ]
  },
  {
   "cell_type": "code",
   "execution_count": 71,
   "id": "f007a941",
   "metadata": {},
   "outputs": [
    {
     "name": "stderr",
     "output_type": "stream",
     "text": [
      "Exception ignored in: <function TransformNode.set_children.<locals>.<lambda> at 0x19357d580>\n",
      "Traceback (most recent call last):\n",
      "  File \"/opt/anaconda3/envs/signal/lib/python3.11/site-packages/matplotlib/transforms.py\", line 209, in <lambda>\n",
      "    self, lambda _, pop=child._parents.pop, k=id(self): pop(k))\n",
      "                                                        ^^^^^^\n",
      "KeyboardInterrupt: \n"
     ]
    },
    {
     "data": {
      "image/png": "[encoded data removed]",
      "text/plain": [
       "<Figure size 640x480 with 1 Axes>"
      ]
     },
     "metadata": {},
     "output_type": "display_data"
    },
    {
     "data": {
      "image/png": "[encoded data removed]",
      "text/plain": [
       "<Figure size 640x480 with 1 Axes>"
      ]
     },
     "metadata": {},
     "output_type": "display_data"
    }
   ],
   "source": [
    "def plot_results(pcg_err, pcg_iterations, cg_err, cg_iterations):\n",
    "    pcg = pd.DataFrame.from_dict({\"err\": pcg_err, \n",
    "                                  \"iterations\": pcg_iterations})\n",
    "    pcg[\"type\"] = \"Polak\"\n",
    "\n",
    "    cg = pd.DataFrame.from_dict({\"err\": cg_err, \n",
    "                                  \"iterations\": cg_iterations})\n",
    "    \n",
    "    cg[\"type\"] = \"Conjugate Gradient\"\n",
    "\n",
    "    results = pd.concat([pcg, cg], axis=0)\n",
    "\n",
    "    sns.histplot(data=results, x='err', hue='type', alpha=0.5)\n",
    "    plt.title(\"Comparison of Error Between Conjugate Gradient and Polak–Ribière Error\")\n",
    "    plt.show()\n",
    "    \n",
    "    sns.histplot(data=results, x='iterations', hue='type', alpha=0.5)\n",
    "    plt.title(\"Comparison of Num Iterations Between Conjugate Gradient and Polak–Ribière Error\")\n",
    "    plt.show()\n",
    "\n",
    "\n",
    "plot_results(mbest_pcgs, mnum_pcg_iterations, mbest_cgs, mnum_cg_iterations)\n"
   ]
  },
  {
   "cell_type": "markdown",
   "id": "7a22814e",
   "metadata": {},
   "source": [
    "##### References:\n",
    "* https://indrag49.github.io/Numerical-Optimization/conjugate-gradient-methods-1.html\n",
    "* https://docs.scipy.org/doc/scipy/reference/optimize.html\n"
   ]
  },
  {
   "cell_type": "code",
   "execution_count": null,
   "id": "863ff666",
   "metadata": {},
   "outputs": [],
   "source": []
  }
 ],
 "metadata": {
  "kernelspec": {
   "display_name": "Python 3 (ipykernel)",
   "language": "python",
   "name": "python3"
  },
  "language_info": {
   "codemirror_mode": {
    "name": "ipython",
    "version": 3
   },
   "file_extension": ".py",
   "mimetype": "text/x-python",
   "name": "python",
   "nbconvert_exporter": "python",
   "pygments_lexer": "ipython3",
   "version": "3.9.13"
  }
 },
 "nbformat": 4,
 "nbformat_minor": 5
}
