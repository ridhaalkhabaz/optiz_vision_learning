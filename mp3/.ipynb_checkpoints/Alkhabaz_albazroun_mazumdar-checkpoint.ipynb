{
 "cells": [
  {
   "cell_type": "markdown",
   "id": "b0450971",
   "metadata": {},
   "source": [
    "# Technical Analysis: Central Path versus Primal Dual methods\n",
    "\n",
    "#### Authors:\n",
    "* Ridha Alkhabaz (ridhama2)\n",
    "* Ali Albazroun (aia)\n",
    "* Priyam  Mazumdar (priyamm2)\n",
    "\n",
    "#### Github repository:\n",
    "You can find our code and more files [here](https://github.com/ridhaalkhabaz/optiz_vision_learning).\n",
    "#### Outline:\n",
    "\n",
    "**1- Introduction**\n",
    "\n",
    "**2- Experiments**\n",
    "\n",
    "**3- Results**\n",
    "\n",
    "**4- Conclusions**\n",
    "\n",
    "#### Introduction:"
   ]
  },
  {
   "cell_type": "code",
   "execution_count": null,
   "id": "ff4249e4",
   "metadata": {},
   "outputs": [],
   "source": []
  },
  {
   "cell_type": "code",
   "execution_count": null,
   "id": "e5042e45",
   "metadata": {},
   "outputs": [],
   "source": []
  },
  {
   "cell_type": "markdown",
   "id": "040072bd",
   "metadata": {},
   "source": [
    "#### Imports"
   ]
  },
  {
   "cell_type": "code",
   "execution_count": 2,
   "id": "eb48600c",
   "metadata": {},
   "outputs": [],
   "source": [
    "import numpy as np\n",
    "import sympy\n",
    "from numpy.linalg import matrix_rank"
   ]
  },
  {
   "cell_type": "code",
   "execution_count": 4,
   "id": "7a27a663",
   "metadata": {},
   "outputs": [],
   "source": [
    "def primal_dual(c, A, b, epsilon=0.0001):\n",
    "    \"\"\"\n",
    "    This method solves the std form LP min (c.T * x) s.t. Ax = b, x >= 0 using primual-dual (infeasible) interior-point method.\n",
    "\n",
    "    Parameters:\n",
    "        c, A, b (np arrays): specify the LP in standard form\n",
    "        epsilon\t\t(float): duality gap threshold, specifies termination criteria\n",
    "\n",
    "    Returns:\n",
    "        x \t\t(np array): solution to the LP\n",
    "    \"\"\"\n",
    "\n",
    "    # ensure dimensions are okay\n",
    "    assert A.shape[0] == b.shape[0], 'first dims of A and b must match, check input!'\n",
    "    assert A.shape[1] == c.shape[0], 'second dim of A must match first dim of c, check input!'\n",
    "\n",
    "    # ensure A is full rank, drop redundant rows if not\n",
    "    if matrix_rank(A) < min(A.shape[0], A.shape[1]):\n",
    "        print('A is not full rank, dropping redundant rows')\n",
    "        _, pivots = sympy.Matrix(A).T.rref()\n",
    "        A = A[list(pivots)]\n",
    "        print('Shape of A after dropping redundant rows is {}'.format(A.shape))\n",
    "\n",
    "    m = A.shape[0]\n",
    "    n = A.shape[1]\n",
    "\n",
    "    # initial solution (x_0, lambda_0, s_0) > 0 [lambda is variable l in code]\n",
    "    # note that this is not a feasible solution in general\n",
    "    # but it should tend towards feasibility by itself with iterations\n",
    "    # therefore initially duality gap might show negative\n",
    "    # since this is the infeasible-interior-point algorithm\n",
    "    x = np.ones(shape=(n, ))\n",
    "    l = np.ones(shape=(m, ))\n",
    "    s = np.ones(shape=(n, ))\n",
    "\n",
    "    # set iteration counter to 0 and mu_0\n",
    "    k = 0\n",
    "\n",
    "    # main loop body\n",
    "    while abs(np.dot(x, s)) > epsilon:\n",
    "\n",
    "        # print iteration number and progress\n",
    "        k += 1\n",
    "        primal_obj = np.dot(c, x)\n",
    "        dual_obj = np.dot(b, l)\n",
    "        print('iteration #{}; primal_obj = {:.5f}, dual_obj = {:.5f}; duality_gap = {:.5f}'.format(k, primal_obj, dual_obj, primal_obj - dual_obj))\n",
    "\n",
    "        # choose sigma_k and calculate mu_k\n",
    "        sigma_k = 0.4\n",
    "        mu_k = np.dot(x, s) / n\n",
    "\n",
    "        # create linear system A_ * delta = b_\n",
    "        A_ = np.zeros(shape=(m + n + n, n + m + n))\n",
    "        A_[0:m, 0:n] = np.copy(A)\n",
    "        A_[m:m + n, n:n + m] = np.copy(A.T)\n",
    "        A_[m:m + n, n + m:n + m + n] = np.eye(n)\n",
    "        A_[m + n:m + n + n, 0:n] = np.copy(np.diag(s))\n",
    "        A_[m + n:m + n + n, n + m:n + m + n] = np.copy(np.diag(x))\n",
    "\n",
    "        b_ = np.zeros(shape=(n + m + n, ))\n",
    "        b_[0:m] = np.copy(b - np.dot(A, x))\n",
    "        b_[m:m + n] = np.copy(c - np.dot(A.T, l) - s)\n",
    "        b_[m + n:m + n + n] = np.copy( sigma_k * mu_k * np.ones(shape=(n, )) - np.dot(np.dot(np.diag(x), np.diag(s)), np.ones(shape=(n, ))) )\n",
    "\n",
    "        # solve for delta\n",
    "        delta = np.linalg.solve(A_, b_)\n",
    "        delta_x = delta[0:n]\n",
    "        delta_l = delta[n:n + m]\n",
    "        delta_s = delta[n + m:n + m + n]\n",
    "\n",
    "        # find step-length alpha_k\n",
    "        alpha_max = 1.0\n",
    "        for i in range(n):\n",
    "            if delta_x[i] < 0:\n",
    "                alpha_max = min(alpha_max, -x[i]/delta_x[i])\n",
    "            if delta_s[i] < 0:\n",
    "                alpha_max = min(alpha_max, -s[i]/delta_s[i])\n",
    "        eta_k = 0.99\n",
    "        alpha_k = min(1.0, eta_k * alpha_max)\n",
    "\n",
    "        # create new iterate\n",
    "        x = x + alpha_k * delta_x\n",
    "        l = l + alpha_k * delta_l\n",
    "        s = s + alpha_k * delta_s\n",
    "\n",
    "    # print difference between Ax and b\n",
    "    diff = np.dot(A, x) - b\n",
    "    print('Ax - b = {}; ideally it should have been zero vector'.format(diff))\n",
    "    print('norm of Ax - b is = {}; ideally it should have been zero'.format(np.linalg.norm(diff)))\n",
    "\n",
    "    return x"
   ]
  },
  {
   "cell_type": "code",
   "execution_count": 7,
   "id": "217e3a97",
   "metadata": {},
   "outputs": [],
   "source": [
    "c = np.random.rand(30) \n",
    "\n",
    "# Define the constraint matrix\n",
    "A_eq = np.random.randint(-10, 10, size=(10, 30))  \n",
    "\n",
    "# Define the right-hand side vector of the equality constraints\n",
    "b_eq = np.random.randint(-20, 20, size=10)\n",
    "epsilon = 1e-1"
   ]
  },
  {
   "cell_type": "code",
   "execution_count": 8,
   "id": "9e3f1043",
   "metadata": {},
   "outputs": [
    {
     "name": "stdout",
     "output_type": "stream",
     "text": [
      "iteration #1; primal_obj = 16.21039, dual_obj = -17.00000; duality_gap = 33.21039\n",
      "iteration #2; primal_obj = 10.57972, dual_obj = -5.05605; duality_gap = 15.63577\n",
      "iteration #3; primal_obj = 7.90734, dual_obj = 0.93405; duality_gap = 6.97329\n",
      "iteration #4; primal_obj = 5.31965, dual_obj = 2.31391; duality_gap = 3.00574\n",
      "iteration #5; primal_obj = 4.10003, dual_obj = 2.87857; duality_gap = 1.22146\n",
      "iteration #6; primal_obj = 3.66129, dual_obj = 3.16536; duality_gap = 0.49592\n",
      "iteration #7; primal_obj = 3.47591, dual_obj = 3.27457; duality_gap = 0.20134\n",
      "Ax - b = [-1.80971682e-10 -2.38884468e-10 -2.17106333e-11  3.40227402e-10\n",
      "  1.80975235e-10 -1.30302880e-10 -2.02689421e-10  1.23058896e-10\n",
      " -3.98145517e-10  3.69194453e-10]; ideally it should have been zero vector\n",
      "norm of Ax - b is = 7.789893072739563e-10; ideally it should have been zero\n"
     ]
    }
   ],
   "source": [
    "x = primal_dual(c, A_eq, b_eq, epsilon)"
   ]
  },
  {
   "cell_type": "code",
   "execution_count": null,
   "id": "b211c6ce",
   "metadata": {},
   "outputs": [],
   "source": []
  }
 ],
 "metadata": {
  "kernelspec": {
   "display_name": "Python 3 (ipykernel)",
   "language": "python",
   "name": "python3"
  },
  "language_info": {
   "codemirror_mode": {
    "name": "ipython",
    "version": 3
   },
   "file_extension": ".py",
   "mimetype": "text/x-python",
   "name": "python",
   "nbconvert_exporter": "python",
   "pygments_lexer": "ipython3",
   "version": "3.9.13"
  }
 },
 "nbformat": 4,
 "nbformat_minor": 5
}
