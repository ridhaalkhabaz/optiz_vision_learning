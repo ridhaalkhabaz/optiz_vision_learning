{
 "cells": [
  {
   "cell_type": "markdown",
   "id": "f56ce4ea",
   "metadata": {},
   "source": [
    "# Technical Analysis: Thorough Comparison between Conjugate Gradient and Polak Ribiere Methods \n",
    "\n",
    "#### Authors:\n",
    "* Ridha Alkhabaz (ridhama2)\n",
    "* Ali Albazroun (aia)\n",
    "* Priyam  Mazumdar (priyamm2)\n",
    "\n",
    "#### Outline:\n",
    "\n",
    "**1- Introduction**\n",
    "\n",
    "**2- Experiments**\n",
    "\n",
    "**3- Results**\n",
    "\n",
    "**4- Conclusions**\n",
    "\n",
    "#### Introduction:"
   ]
  },
  {
   "cell_type": "markdown",
   "id": "ac208c29",
   "metadata": {},
   "source": [
    "In this assignment, we are trying to determine whether **Conjugate Gradient** is better than **Polak Ribiere** methods. Our chosen objective are all well-behaved, continous, and mostly differentiable. Moreover, they all share the same minimum, which is $x = [0]^d$, where d is the dimension. Here is a list of our chosen objective functions:\n",
    "\n",
    "* [Rastrigin Functions](https://en.wikipedia.org/wiki/Rastrigin_function): It is non-convex function with the following form:\n",
    "$$ f(x) = An +  \\sum_{i=1}^{n} (x_{i}^{2} - A cos(2 \\pi x_i)), \\quad where \\quad A \\in \\mathbb{R}, n \\in \\mathbb{N}, and \\quad x \\in \\mathbb{R}^{n}$$\n",
    "* [Bent Cigar Function](https://al-roomi.org/benchmarks/unconstrained/n-dimensions/164-bent-cigar-function): It is a convex function with the following function:\n",
    "$$ f(x) = x_{1}^{2} + 10^{6}\\sum_{i=1}^{n} x_{i}^{2}, \\quad where \\quad n \\in \\mathbb{N}, and \\quad x \\in \\mathbb{R}^{n}$$"
   ]
  },
  {
   "cell_type": "markdown",
   "id": "1d7b556c",
   "metadata": {},
   "source": [
    "#### Experiments:"
   ]
  },
  {
   "cell_type": "code",
   "execution_count": 3,
   "id": "63c45232",
   "metadata": {},
   "outputs": [],
   "source": [
    "# imports:\n",
    "from scipy import optimize\n",
    "import numpy as np\n",
    "from tqdm.notebook import tqdm\n",
    "\n",
    "import sys, os"
   ]
  },
  {
   "cell_type": "code",
   "execution_count": 1,
   "id": "cae3b8da-02cd-4537-a6f8-86c684e720b8",
   "metadata": {},
   "outputs": [],
   "source": [
    "# Disable\n",
    "def blockPrint():\n",
    "    sys.stdout = open(os.devnull, 'w')\n",
    "\n",
    "def Rastrigin(x):\n",
    "    z = 0 \n",
    "    for i in x:\n",
    "        z += i**2 - 0.5*np.cos(2*np.pi*i) + 0.5\n",
    "    return z\n",
    "\n",
    "def ellipse(x):\n",
    "    dim = len(x)\n",
    "    z = 0\n",
    "    for i in range(dim):\n",
    "        for j in range(i):\n",
    "            z += (x[j]**2)\n",
    "    return z\n",
    "            \n",
    "    \n",
    "def cigar(x):\n",
    "    z = x[0]**2\n",
    "    for i in x[1:]:\n",
    "        z += (10**6) * i**2\n",
    "    return z\n",
    "    \n",
    "\n",
    "def opts_test(function, samples=50, dim=100):\n",
    "    pcg_x_outs, best_pcgs, num_pcg_iterations = [], [], []\n",
    "    cg_x_outs, best_cgs, num_cg_iterations = [], [], []\n",
    "    \n",
    "    for i in tqdm(range(samples)):\n",
    "        blockPrint()\n",
    "        init = np.random.randn((dim))\n",
    "    \n",
    "        pcg = optimize.fmin_cg(function, x0=init, full_output=True, retall=True)\n",
    "        pcg_x_out, best_pcg, _, _, _, pcg_iterations = pcg\n",
    "        pcg_iterations = len(pcg_iterations) - 1\n",
    "\n",
    "        init = np.random.randn((dim))\n",
    "        cg = optimize.minimize(function, x0=init, method=\"CG\")\n",
    "        cg_x_out, best_cg, cg_iterations = cg[\"x\"], cg[\"fun\"], cg[\"nit\"]\n",
    "    \n",
    "        pcg_x_outs.append(pcg_x_out)\n",
    "        best_pcgs.append(best_pcg)\n",
    "        num_pcg_iterations.append(pcg_iterations)\n",
    "    \n",
    "        cg_x_outs.append(cg_x_out)\n",
    "        best_cgs.append(best_cg)\n",
    "        num_cg_iterations.append(cg_iterations)\n",
    "\n",
    "    return pcg_x_outs, best_pcgs, num_pcg_iterations, cg_x_outs, best_cgs, num_cg_iterations"
   ]
  },
  {
   "cell_type": "code",
   "execution_count": 2,
   "id": "db73de64-8a6a-45a5-9b5a-ec50605dd1a8",
   "metadata": {},
   "outputs": [
    {
     "data": {
      "application/vnd.jupyter.widget-view+json": {
       "model_id": "559f7e1cf240441fbf67ddee87ee1879",
       "version_major": 2,
       "version_minor": 0
      },
      "text/plain": [
       "  0%|          | 0/50 [00:00<?, ?it/s]"
      ]
     },
     "metadata": {},
     "output_type": "display_data"
    },
    {
     "data": {
      "application/vnd.jupyter.widget-view+json": {
       "model_id": "539d834d5b434cf5810badf632d35a6f",
       "version_major": 2,
       "version_minor": 0
      },
      "text/plain": [
       "  0%|          | 0/50 [00:00<?, ?it/s]"
      ]
     },
     "metadata": {},
     "output_type": "display_data"
    },
    {
     "data": {
      "application/vnd.jupyter.widget-view+json": {
       "model_id": "2a9c91c256cd4433b319cc226b84bbc0",
       "version_major": 2,
       "version_minor": 0
      },
      "text/plain": [
       "  0%|          | 0/50 [00:00<?, ?it/s]"
      ]
     },
     "metadata": {},
     "output_type": "display_data"
    }
   ],
   "source": [
    "rpcg_x_outs, rbest_pcgs, rnum_pcg_iterations, rcg_x_outs, rbest_cgs, rnum_cg_iterations = opts_test(Rastrigin)\n",
    "epcg_x_outs, ebest_pcgs, enum_pcg_iterations, ecg_x_outs, ebest_cgs, enum_cg_iterations = opts_test(ellipse)\n",
    "cpcg_x_outs, cbest_pcgs, cnum_pcg_iterations, ccg_x_outs, cbest_cgs, cnum_cg_iterations = opts_test(cigar)"
   ]
  },
  {
   "cell_type": "code",
   "execution_count": 5,
   "id": "52a1e793",
   "metadata": {},
   "outputs": [],
   "source": [
    "print(rbest_pcgs,ebest_pcgs, cbest_pcgs)"
   ]
  },
  {
   "cell_type": "code",
   "execution_count": 7,
   "id": "f007a941",
   "metadata": {},
   "outputs": [
    {
     "data": {
      "text/plain": [
       "[5.492193744719464e-09,\n",
       " 5.370309909172762e-09,\n",
       " 2.564731177245315e-06,\n",
       " 5.495603293808962e-09,\n",
       " 1.7743646235457057e-08,\n",
       " 8.884260348576646e-05,\n",
       " 7.127978977957317e-08,\n",
       " 4.307003763414938e-09,\n",
       " 5.492827271238532e-09,\n",
       " 5.450723357994951e-09,\n",
       " 5.4985955321827515e-09,\n",
       " 5.495603996581701e-09,\n",
       " 5.494868769336193e-09,\n",
       " 6.80344757199415e-07,\n",
       " 5.488504889518177e-09,\n",
       " 1.3621639728085917e-06,\n",
       " 5.383894567977177e-09,\n",
       " 0.0006898128031746383,\n",
       " 5.4233376854096e-09,\n",
       " 8.281728949175467e-05,\n",
       " 5.495757679510893e-09,\n",
       " 3.2767377315345393e-06,\n",
       " 7.789839369271101e-09,\n",
       " 5.495656344705619e-09,\n",
       " 5.49507638872519e-09,\n",
       " 9.192528950685614e-05,\n",
       " 5.129991093714194e-09,\n",
       " 2.103985645987083e-08,\n",
       " 5.331616322441759e-09,\n",
       " 5.749770460532655e-09,\n",
       " 5.455403855504127e-09,\n",
       " 5.495602274460396e-09,\n",
       " 6.651753609346719e-08,\n",
       " 2.875728582185953e-07,\n",
       " 5.494338905204111e-09,\n",
       " 5.466472198685636e-09,\n",
       " 7.75183643825741e-06,\n",
       " 5.496577456743832e-09,\n",
       " 2.6974192021153204e-08,\n",
       " 3.8225746514456005e-09,\n",
       " 5.224521839731839e-09,\n",
       " 5.5688603424543255e-09,\n",
       " 5.489055437437392e-09,\n",
       " 5.492619496406356e-09,\n",
       " 5.497600229337541e-09,\n",
       " 1.0208516027120419e-08,\n",
       " 1.448931038010896e-08,\n",
       " 5.553020712576853e-09,\n",
       " 1.5519695309891462e-05,\n",
       " 5.49626771860884e-09]"
      ]
     },
     "execution_count": 7,
     "metadata": {},
     "output_type": "execute_result"
    }
   ],
   "source": [
    "cbest_pcgs"
   ]
  },
  {
   "cell_type": "code",
   "execution_count": null,
   "id": "e535a310",
   "metadata": {},
   "outputs": [],
   "source": []
  },
  {
   "cell_type": "code",
   "execution_count": null,
   "id": "7415edbc",
   "metadata": {},
   "outputs": [],
   "source": []
  },
  {
   "cell_type": "code",
   "execution_count": null,
   "id": "e17482b0",
   "metadata": {},
   "outputs": [],
   "source": []
  },
  {
   "cell_type": "code",
   "execution_count": null,
   "id": "b54419d2",
   "metadata": {},
   "outputs": [],
   "source": []
  },
  {
   "cell_type": "code",
   "execution_count": null,
   "id": "0c3916a4",
   "metadata": {},
   "outputs": [],
   "source": []
  },
  {
   "cell_type": "markdown",
   "id": "7a22814e",
   "metadata": {},
   "source": [
    "##### References:\n",
    "* https://indrag49.github.io/Numerical-Optimization/conjugate-gradient-methods-1.html\n",
    "* https://docs.scipy.org/doc/scipy/reference/optimize.html\n"
   ]
  },
  {
   "cell_type": "code",
   "execution_count": null,
   "id": "863ff666",
   "metadata": {},
   "outputs": [],
   "source": []
  }
 ],
 "metadata": {
  "kernelspec": {
   "display_name": "Python 3 (ipykernel)",
   "language": "python",
   "name": "python3"
  },
  "language_info": {
   "codemirror_mode": {
    "name": "ipython",
    "version": 3
   },
   "file_extension": ".py",
   "mimetype": "text/x-python",
   "name": "python",
   "nbconvert_exporter": "python",
   "pygments_lexer": "ipython3",
   "version": "3.9.13"
  }
 },
 "nbformat": 4,
 "nbformat_minor": 5
}
